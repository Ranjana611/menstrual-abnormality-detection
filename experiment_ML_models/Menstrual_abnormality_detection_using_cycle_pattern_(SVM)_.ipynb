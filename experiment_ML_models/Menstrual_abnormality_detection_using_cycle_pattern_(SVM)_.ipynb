{
  "nbformat": 4,
  "nbformat_minor": 0,
  "metadata": {
    "colab": {
      "private_outputs": true,
      "provenance": []
    },
    "kernelspec": {
      "name": "python3",
      "display_name": "Python 3"
    },
    "language_info": {
      "name": "python"
    }
  },
  "cells": [
    {
      "cell_type": "markdown",
      "source": [
        "# 1. Import Libraries"
      ],
      "metadata": {
        "id": "EM-nOl3G3rKD"
      }
    },
    {
      "cell_type": "code",
      "source": [
        "import pandas as pd\n",
        "from sklearn.model_selection import train_test_split\n",
        "from sklearn.preprocessing import StandardScaler\n",
        "from sklearn.svm import SVC\n",
        "from sklearn.metrics import accuracy_score, confusion_matrix, classification_report, roc_auc_score\n",
        "import matplotlib.pyplot as plt\n",
        "import seaborn as sns"
      ],
      "metadata": {
        "id": "crxFIOgc3wGJ"
      },
      "execution_count": null,
      "outputs": []
    },
    {
      "cell_type": "markdown",
      "source": [
        "# 2. Load Dataset"
      ],
      "metadata": {
        "id": "cq26ppej33-H"
      }
    },
    {
      "cell_type": "code",
      "source": [
        "df = pd.read_csv('/content/pcos_dataset.csv')"
      ],
      "metadata": {
        "id": "VGK9LT4b36WA"
      },
      "execution_count": null,
      "outputs": []
    },
    {
      "cell_type": "markdown",
      "source": [
        "# Separate features and target"
      ],
      "metadata": {
        "id": "Px0UqmMo4D2o"
      }
    },
    {
      "cell_type": "code",
      "source": [
        "X = df.drop('PCOS_Diagnosis', axis=1)\n",
        "y = df['PCOS_Diagnosis']"
      ],
      "metadata": {
        "id": "OYAmMMZP3-7P"
      },
      "execution_count": null,
      "outputs": []
    },
    {
      "cell_type": "markdown",
      "source": [
        "# 3. Split Data into Train & Test"
      ],
      "metadata": {
        "id": "YTANkSqg4MCY"
      }
    },
    {
      "cell_type": "code",
      "source": [
        "X_train, X_test, y_train, y_test = train_test_split( X, y, test_size=0.2, random_state=42, stratify=y)"
      ],
      "metadata": {
        "id": "BBZXw3LN4PhH"
      },
      "execution_count": null,
      "outputs": []
    },
    {
      "cell_type": "markdown",
      "source": [
        "# 4. Feature Scaling"
      ],
      "metadata": {
        "id": "7NtHm7ca4hoQ"
      }
    },
    {
      "cell_type": "code",
      "source": [
        "scaler = StandardScaler()\n",
        "X_train_scaled = scaler.fit_transform(X_train)\n",
        "X_test_scaled = scaler.transform(X_test)"
      ],
      "metadata": {
        "id": "2HlQmTv-4r3g"
      },
      "execution_count": null,
      "outputs": []
    },
    {
      "cell_type": "markdown",
      "source": [
        "# 5. Build and Train SVM Model"
      ],
      "metadata": {
        "id": "ylfezfwb4vNx"
      }
    },
    {
      "cell_type": "code",
      "source": [
        "svm_model = SVC(kernel='rbf', probability=True, random_state=42)\n",
        "svm_model.fit(X_train_scaled, y_train)"
      ],
      "metadata": {
        "id": "XnadYX_84zkY"
      },
      "execution_count": null,
      "outputs": []
    },
    {
      "cell_type": "markdown",
      "source": [
        "# 6. Forecast / Predictions"
      ],
      "metadata": {
        "id": "65npJRni42tX"
      }
    },
    {
      "cell_type": "code",
      "source": [
        "y_pred = svm_model.predict(X_test_scaled)\n",
        "y_prob = svm_model.predict_proba(X_test_scaled)[:, 1]"
      ],
      "metadata": {
        "id": "kU3uvipZ44b_"
      },
      "execution_count": null,
      "outputs": []
    },
    {
      "cell_type": "markdown",
      "source": [
        "# 7. Validate Model Performance"
      ],
      "metadata": {
        "id": "gOlPATpt49jJ"
      }
    },
    {
      "cell_type": "code",
      "source": [
        "accuracy = accuracy_score(y_test, y_pred)\n",
        "roc_auc = roc_auc_score(y_test, y_prob)\n",
        "print(f\"Accuracy: {accuracy:.2f}\")\n",
        "print('/n')\n",
        "print(f\"ROC-AUC Score: {roc_auc:.4f}\")"
      ],
      "metadata": {
        "id": "JsySL1Vv49OA"
      },
      "execution_count": null,
      "outputs": []
    },
    {
      "cell_type": "markdown",
      "source": [
        "# 8. Confusion Matrix"
      ],
      "metadata": {
        "id": "121kGeep5R4I"
      }
    },
    {
      "cell_type": "code",
      "source": [
        "conf_matrix = confusion_matrix(y_test, y_pred)\n",
        "plt.figure(figsize=(6, 4))\n",
        "sns.heatmap(conf_matrix, annot=True, fmt='d', cmap='Blues',\n",
        "            xticklabels=['No PCOS', 'PCOS'],\n",
        "            yticklabels=['No PCOS', 'PCOS'])\n",
        "plt.title('Confusion Matrix')\n",
        "plt.xlabel('Predicted')\n",
        "plt.ylabel('Actual')\n",
        "plt.show()"
      ],
      "metadata": {
        "id": "ysdI2MTy5RsC"
      },
      "execution_count": null,
      "outputs": []
    },
    {
      "cell_type": "markdown",
      "source": [
        "# 9. Classification Report"
      ],
      "metadata": {
        "id": "0hWiY_nX5YUg"
      }
    },
    {
      "cell_type": "code",
      "source": [
        "print(\"\\nClassification Report:\\n\")\n",
        "print(classification_report(y_test, y_pred))"
      ],
      "metadata": {
        "id": "w4wKVNVd5YK_"
      },
      "execution_count": null,
      "outputs": []
    }
  ]
}